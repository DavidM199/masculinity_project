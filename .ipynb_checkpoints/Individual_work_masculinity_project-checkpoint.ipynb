{
 "cells": [
  {
   "cell_type": "markdown",
   "id": "8d3a3156",
   "metadata": {},
   "source": [
    "## Individual work after completing CodeCademy's *Build a Machine Learning Model with Python Skill Path* Course\n",
    "\n",
    "In this project I will be exploring further questions that may arise from the masculinity survey from <a href=\"https://fivethirtyeight.com/\" target = \"_blank\">FiveThirtyEight</a>.\n",
    "\n",
    "The questions I will be exploring are:\n",
    "\n",
    "* Who is more likely to pay on a date? (sexuality, demographic)\n",
    "* Are certain beliefs or actions linked to more self-described masculine or feminine individuals?\n",
    "* How do insecurities change as people grow older?\n",
    "\n",
    "\n",
    "So far, we have already concluded that, when trying to find a more masculine and less masculine cluster from the subquestions of question 7, we end up with a cluster representing the people that are more likely to do all activities and a second cluster representing the people that are less likely to do any activity. So the two clusters are \"people who do things\" and \"people who don't do things\". \n",
    "\n",
    "The code below shows the progress so far."
   ]
  },
  {
   "cell_type": "code",
   "execution_count": 15,
   "id": "024e577a",
   "metadata": {},
   "outputs": [],
   "source": [
    "import pandas as pd\n",
    "\n",
    "survey = pd.read_csv(\"masculinity.csv\")"
   ]
  },
  {
   "cell_type": "markdown",
   "id": "d7ef61aa",
   "metadata": {},
   "source": [
    "### Mapping text to numerical values\n",
    "\n",
    "This is important, as KMeans can only be trained on numerical values. "
   ]
  },
  {
   "cell_type": "code",
   "execution_count": 16,
   "id": "51047022",
   "metadata": {},
   "outputs": [
    {
     "name": "stdout",
     "output_type": "stream",
     "text": [
      "3.0    537\n",
      "2.0    324\n",
      "4.0    142\n",
      "1.0    123\n",
      "0.0     53\n",
      "Name: q0007_0001, dtype: int64\n",
      "3.0    514\n",
      "2.0    387\n",
      "4.0    123\n",
      "1.0    101\n",
      "0.0     50\n",
      "Name: q0007_0002, dtype: int64\n",
      "3.0    364\n",
      "2.0    339\n",
      "0.0    224\n",
      "4.0    166\n",
      "1.0     85\n",
      "Name: q0007_0003, dtype: int64\n",
      "2.0    505\n",
      "3.0    371\n",
      "1.0    121\n",
      "0.0     78\n",
      "4.0     43\n",
      "Name: q0007_0004, dtype: int64\n",
      "0.0    710\n",
      "1.0    228\n",
      "2.0    217\n",
      "3.0     22\n",
      "4.0      7\n",
      "Name: q0007_0005, dtype: int64\n",
      "4.0    427\n",
      "3.0    384\n",
      "2.0    155\n",
      "0.0    102\n",
      "1.0     91\n",
      "Name: q0007_0006, dtype: int64\n",
      "0.0    1001\n",
      "1.0      60\n",
      "3.0      41\n",
      "4.0      39\n",
      "2.0      31\n",
      "Name: q0007_0007, dtype: int64\n",
      "4.0    482\n",
      "3.0    344\n",
      "2.0    216\n",
      "0.0     93\n",
      "1.0     43\n",
      "Name: q0007_0008, dtype: int64\n",
      "3.0    353\n",
      "2.0    316\n",
      "4.0    296\n",
      "0.0     95\n",
      "1.0     95\n",
      "Name: q0007_0009, dtype: int64\n",
      "1.0    464\n",
      "0.0    355\n",
      "2.0    189\n",
      "3.0     97\n",
      "4.0     58\n",
      "Name: q0007_0010, dtype: int64\n",
      "2.0    456\n",
      "3.0    339\n",
      "0.0    187\n",
      "4.0    111\n",
      "1.0     75\n",
      "Name: q0007_0011, dtype: int64\n"
     ]
    }
   ],
   "source": [
    "cols_to_map = [\"q0007_0001\", \"q0007_0002\", \"q0007_0003\", \"q0007_0004\",\n",
    "       \"q0007_0005\", \"q0007_0006\", \"q0007_0007\", \"q0007_0008\", \"q0007_0009\",\n",
    "       \"q0007_0010\", \"q0007_0011\"]\n",
    "\n",
    "for column in cols_to_map:\n",
    "    survey[column] = survey[column].map({\"Never, and not open to it\":0, \"Never, but open to it\":1, \"Rarely\":2, \"Sometimes\":3,\n",
    "                                        \"Often\":4})\n",
    "    \n",
    "for column in cols_to_map:\n",
    "    print(survey[column].value_counts())"
   ]
  },
  {
   "cell_type": "markdown",
   "id": "e1d45dac",
   "metadata": {},
   "source": [
    "### Training the KMeans classifier object\n",
    "\n",
    "As we can see, the first cluster_center defines a cluster with the \"not doers\" the second defines a cluster with the \"doers\". This means that there isn't a clear difference in the *masculinity* of the answers."
   ]
  },
  {
   "cell_type": "code",
   "execution_count": 17,
   "id": "c4306f07",
   "metadata": {},
   "outputs": [
    {
     "name": "stdout",
     "output_type": "stream",
     "text": [
      "The first cluster center has higher values:  [1.87830688 1.84391534 0.85185185 1.72486772 0.57142857 2.64021164\n",
      " 1.97089947]\n",
      "The second cluster center has lower values:  [2.84548105 2.81632653 2.84110787 2.39941691 0.69387755 3.06997085\n",
      " 2.90087464]\n"
     ]
    }
   ],
   "source": [
    "from sklearn.cluster import KMeans\n",
    "\n",
    "rows_to_cluster = survey.dropna(subset = [\"q0007_0001\", \"q0007_0002\", \"q0007_0003\",\"q0007_0004\",\"q0007_0005\",\"q0007_0008\",\"q0007_0009\"])\n",
    "\n",
    "classifier = KMeans(n_clusters = 2)\n",
    "classifier.fit(rows_to_cluster[[\"q0007_0001\", \"q0007_0002\", \"q0007_0003\",\"q0007_0004\",\"q0007_0005\",\"q0007_0008\",\"q0007_0009\"]])\n",
    "print(\"The first cluster center has higher values: \", classifier.cluster_centers_[0])\n",
    "print(\"The second cluster center has lower values: \", classifier.cluster_centers_[1])"
   ]
  },
  {
   "cell_type": "markdown",
   "id": "d1faa640",
   "metadata": {},
   "source": [
    "## Who is more likely to pay on a date?\n",
    "\n",
    "\n",
    "Before we can ask this question, we have to know what clusters of individuals we can find in self-described masculinity and education-level\n",
    "\n",
    "Mapping the educ4 and q001 (education and question one) columns to numbers:\n",
    "\n"
   ]
  },
  {
   "cell_type": "code",
   "execution_count": 18,
   "id": "e9593eca",
   "metadata": {},
   "outputs": [
    {
     "name": "stdout",
     "output_type": "stream",
     "text": [
      "4.0    389\n",
      "2.0    373\n",
      "1.0    307\n",
      "0.0    119\n",
      "Name: educ4, dtype: int64\n",
      "2.0    617\n",
      "3.0    443\n",
      "1.0     97\n",
      "0.0     21\n",
      "Name: q0001, dtype: int64\n"
     ]
    }
   ],
   "source": [
    "survey[\"educ4\"] = survey[\"educ4\"].map({\"High school or less\":0, \"Some college\":1, \"College or more\":2, \"Post graduate degree\":4})\n",
    "\n",
    "survey[\"q0001\"] = survey[\"q0001\"].map({\"Very masculine\": 3, \"Somewhat masculine\": 2, \"Not very masculine\":1, \"Not at all masculine\":0})\n",
    "print(survey[\"educ4\"].value_counts())\n",
    "print(survey[\"q0001\"].value_counts())"
   ]
  },
  {
   "cell_type": "code",
   "execution_count": 24,
   "id": "eae2faf2",
   "metadata": {},
   "outputs": [
    {
     "name": "stdout",
     "output_type": "stream",
     "text": [
      "[[1.32070707 2.26136364]\n",
      " [4.         2.25194805]]\n",
      "2.258283772302464\n"
     ]
    }
   ],
   "source": [
    "rows_to_cluster_2 = survey.dropna(subset=[\"educ4\", \"q0001\"])\n",
    "\n",
    "classifier_q0001_educ4 = KMeans(n_clusters = 2, random_state = 20)\n",
    "\n",
    "classifier_q0001_educ4.fit(rows_to_cluster_2[[\"educ4\", \"q0001\"]])\n",
    "\n",
    "print(classifier_q0001_educ4.cluster_centers_)\n",
    "print(rows_to_cluster_2[\"q0001\"].mean())"
   ]
  },
  {
   "cell_type": "code",
   "execution_count": null,
   "id": "85212778",
   "metadata": {},
   "outputs": [],
   "source": []
  }
 ],
 "metadata": {
  "kernelspec": {
   "display_name": "Python 3 (ipykernel)",
   "language": "python",
   "name": "python3"
  },
  "language_info": {
   "codemirror_mode": {
    "name": "ipython",
    "version": 3
   },
   "file_extension": ".py",
   "mimetype": "text/x-python",
   "name": "python",
   "nbconvert_exporter": "python",
   "pygments_lexer": "ipython3",
   "version": "3.9.12"
  }
 },
 "nbformat": 4,
 "nbformat_minor": 5
}
