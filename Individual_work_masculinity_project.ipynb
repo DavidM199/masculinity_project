{
 "cells": [
  {
   "cell_type": "markdown",
   "id": "649ed44d",
   "metadata": {},
   "source": [
    "## Individual work after completing CodeCademy's *Build a Machine Learning Model with Python Skill Path* Course\n",
    "\n",
    "In this project I will be exploring further questions that may arise from the masculinity survey from <a href=\"https://fivethirtyeight.com/\" target = \"_blank\">FiveThirtyEight</a>.\n",
    "\n",
    "The questions I will be exploring are:\n",
    "\n",
    "* Who is more likely to pay on a date? (sexuality, demographic)\n",
    "* Are certain beliefs or actions linked to more self-described masculine or feminine individuals?\n",
    "* How do insecurities change as people grow older?\n",
    "\n",
    "\n",
    "So far, we have already concluded that, when trying to find a more masculine and less masculine cluster from the subquestions of question 7, we end up with a cluster representing the people that are more likely to do all activities and a second cluster representing the people that are less likely to do any activity. So the two clusters are \"people who do things\" and \"people who don't do things\". \n",
    "\n",
    "The code below shows the progress so far."
   ]
  },
  {
   "cell_type": "code",
   "execution_count": 43,
   "id": "eabe69a7",
   "metadata": {},
   "outputs": [],
   "source": [
    "import pandas as pd\n",
    "\n",
    "survey = pd.read_csv(\"masculinity.csv\")"
   ]
  },
  {
   "cell_type": "markdown",
   "id": "3a78e11f",
   "metadata": {},
   "source": [
    "### Mapping text to numerical values\n",
    "\n",
    "This is important, as KMeans can only be trained on numerical values. "
   ]
  },
  {
   "cell_type": "code",
   "execution_count": 44,
   "id": "b0f41b03",
   "metadata": {},
   "outputs": [
    {
     "name": "stdout",
     "output_type": "stream",
     "text": [
      "3.0    537\n",
      "2.0    324\n",
      "4.0    142\n",
      "1.0    123\n",
      "0.0     53\n",
      "Name: q0007_0001, dtype: int64\n",
      "3.0    514\n",
      "2.0    387\n",
      "4.0    123\n",
      "1.0    101\n",
      "0.0     50\n",
      "Name: q0007_0002, dtype: int64\n",
      "3.0    364\n",
      "2.0    339\n",
      "0.0    224\n",
      "4.0    166\n",
      "1.0     85\n",
      "Name: q0007_0003, dtype: int64\n",
      "2.0    505\n",
      "3.0    371\n",
      "1.0    121\n",
      "0.0     78\n",
      "4.0     43\n",
      "Name: q0007_0004, dtype: int64\n",
      "0.0    710\n",
      "1.0    228\n",
      "2.0    217\n",
      "3.0     22\n",
      "4.0      7\n",
      "Name: q0007_0005, dtype: int64\n",
      "4.0    427\n",
      "3.0    384\n",
      "2.0    155\n",
      "0.0    102\n",
      "1.0     91\n",
      "Name: q0007_0006, dtype: int64\n",
      "0.0    1001\n",
      "1.0      60\n",
      "3.0      41\n",
      "4.0      39\n",
      "2.0      31\n",
      "Name: q0007_0007, dtype: int64\n",
      "4.0    482\n",
      "3.0    344\n",
      "2.0    216\n",
      "0.0     93\n",
      "1.0     43\n",
      "Name: q0007_0008, dtype: int64\n",
      "3.0    353\n",
      "2.0    316\n",
      "4.0    296\n",
      "0.0     95\n",
      "1.0     95\n",
      "Name: q0007_0009, dtype: int64\n",
      "1.0    464\n",
      "0.0    355\n",
      "2.0    189\n",
      "3.0     97\n",
      "4.0     58\n",
      "Name: q0007_0010, dtype: int64\n",
      "2.0    456\n",
      "3.0    339\n",
      "0.0    187\n",
      "4.0    111\n",
      "1.0     75\n",
      "Name: q0007_0011, dtype: int64\n"
     ]
    }
   ],
   "source": [
    "cols_to_map = [\"q0007_0001\", \"q0007_0002\", \"q0007_0003\", \"q0007_0004\",\n",
    "       \"q0007_0005\", \"q0007_0006\", \"q0007_0007\", \"q0007_0008\", \"q0007_0009\",\n",
    "       \"q0007_0010\", \"q0007_0011\"]\n",
    "\n",
    "for column in cols_to_map:\n",
    "    survey[column] = survey[column].map({\"Never, and not open to it\":0, \"Never, but open to it\":1, \"Rarely\":2, \"Sometimes\":3,\n",
    "                                        \"Often\":4})\n",
    "    \n",
    "for column in cols_to_map:\n",
    "    print(survey[column].value_counts())"
   ]
  },
  {
   "cell_type": "markdown",
   "id": "b5489e64",
   "metadata": {},
   "source": [
    "### Training the KMeans classifier object\n",
    "\n",
    "As we can see, the first cluster_center defines a cluster with the \"not doers\" the second defines a cluster with the \"doers\". This means that there isn't a clear difference in the *masculinity* of the answers."
   ]
  },
  {
   "cell_type": "code",
   "execution_count": 45,
   "id": "4581d39e",
   "metadata": {},
   "outputs": [
    {
     "name": "stdout",
     "output_type": "stream",
     "text": [
      "The first cluster center has higher values:  [2.84425036 2.81513828 2.84133916 2.39883552 0.69577875 3.0713246\n",
      " 2.89665211]\n",
      "The second cluster center has lower values:  [1.87798408 1.84350133 0.84615385 1.72413793 0.56763926 2.63660477\n",
      " 1.97612732]\n"
     ]
    }
   ],
   "source": [
    "from sklearn.cluster import KMeans\n",
    "\n",
    "rows_to_cluster = survey.dropna(subset = [\"q0007_0001\", \"q0007_0002\", \"q0007_0003\",\"q0007_0004\",\"q0007_0005\",\"q0007_0008\",\"q0007_0009\"])\n",
    "\n",
    "classifier = KMeans(n_clusters = 2)\n",
    "classifier.fit(rows_to_cluster[[\"q0007_0001\", \"q0007_0002\", \"q0007_0003\",\"q0007_0004\",\"q0007_0005\",\"q0007_0008\",\"q0007_0009\"]])\n",
    "print(\"The first cluster center has higher values: \", classifier.cluster_centers_[0])\n",
    "print(\"The second cluster center has lower values: \", classifier.cluster_centers_[1])"
   ]
  },
  {
   "cell_type": "markdown",
   "id": "06af293e",
   "metadata": {},
   "source": [
    "## Is there some sort of correlation between self-described masculinity, number of children and education level?\n",
    "\n",
    "\n",
    "Mapping the educ4 and q001 (education and question one) columns to numbers:\n",
    "\n",
    "Not employed-retired                  468\n",
    "Employed, working full-time           467\n",
    "Employed, working part-time           109\n",
    "Not employed, NOT looking for work     87\n",
    "Not employed, looking for work         40\n",
    "Not employed, student                  17\n",
    "No answer              \n"
   ]
  },
  {
   "cell_type": "code",
   "execution_count": 46,
   "id": "ee08ff60",
   "metadata": {},
   "outputs": [
    {
     "name": "stdout",
     "output_type": "stream",
     "text": [
      "4.0    389\n",
      "2.0    373\n",
      "1.0    307\n",
      "0.0    119\n",
      "Name: educ4, dtype: int64\n",
      "2.0    617\n",
      "3.0    443\n",
      "1.0     97\n",
      "0.0     21\n",
      "Name: q0001, dtype: int64\n",
      "1.0    818\n",
      "0.0    365\n",
      "Name: kids, dtype: int64\n",
      "1.0    576\n",
      "2.0    468\n",
      "0.0    127\n",
      "Name: q0009, dtype: int64\n"
     ]
    }
   ],
   "source": [
    "survey[\"educ4\"] = survey[\"educ4\"].map({\"High school or less\":0, \"Some college\":1, \"College or more\":2, \"Post graduate degree\":4})\n",
    "\n",
    "survey[\"q0001\"] = survey[\"q0001\"].map({\"Very masculine\": 3, \"Somewhat masculine\": 2, \"Not very masculine\":1, \"Not at all masculine\":0})\n",
    "\n",
    "survey[\"kids\"] = survey[\"kids\"].map({\"Has children\":1, \"No children\":0})\n",
    "\n",
    "survey[\"q0018\"] = survey[\"q0018\"].map({\"Never\":0, \"Rarely\":1, \"Sometimes\":2, \"Often\":3, \"Always\":4})\n",
    "\n",
    "#employment status - here I only want to look at people that are either working, not working (but not students) or retired.\n",
    "survey[\"q0009\"] = survey[\"q0009\"].map({\"Not employed, looking for work\":0, \"Not employed, NOT looking for work\":0, \"Employed, working part-time\":1,\n",
    "                                      \"Employed, working full-time\":1, \"Not employed-retired\":2})\n",
    "\n",
    "print(survey[\"educ4\"].value_counts())\n",
    "print(survey[\"q0001\"].value_counts())\n",
    "print(survey[\"kids\"].value_counts())\n",
    "print(survey[\"q0009\"].value_counts())"
   ]
  },
  {
   "cell_type": "code",
   "execution_count": 47,
   "id": "05c8abff",
   "metadata": {},
   "outputs": [
    {
     "data": {
      "text/plain": [
       "[<matplotlib.lines.Line2D at 0x7fe6f0052340>]"
      ]
     },
     "execution_count": 47,
     "metadata": {},
     "output_type": "execute_result"
    },
    {
     "data": {
      "image/png": "[encoded data removed]",
      "text/plain": [
       "<Figure size 432x288 with 1 Axes>"
      ]
     },
     "metadata": {
      "needs_background": "light"
     },
     "output_type": "display_data"
    }
   ],
   "source": [
    "rows_to_cluster_2 = survey.dropna(subset=[\"educ4\", \"q0001\", \"kids\", \"q0009\", \"q0018\"])\n",
    "\n",
    "from matplotlib import pyplot as plt\n",
    "\n",
    "inertia = []\n",
    "for i in range(1, 15):\n",
    "    classifier_q0001_educ4 = KMeans(n_clusters = i, random_state = 20)\n",
    "    classifier_q0001_educ4.fit(rows_to_cluster_2[[\"educ4\", \"q0001\", \"kids\", \"q0009\"]])\n",
    "    inertia.append(classifier_q0001_educ4.inertia_)\n",
    "\n",
    "plt.plot(range(1,15), inertia)"
   ]
  },
  {
   "cell_type": "markdown",
   "id": "4c3a9257",
   "metadata": {},
   "source": [
    "Seeing that the optimal number of clusters is 2, I will use that one."
   ]
  },
  {
   "cell_type": "code",
   "execution_count": 48,
   "id": "4b73109e",
   "metadata": {},
   "outputs": [
    {
     "name": "stdout",
     "output_type": "stream",
     "text": [
      "Cluster center 0:  [4.         2.25       0.73076923 1.39285714]\n",
      "Cluster center 1:  [1.32457293 2.27069645 0.67674113 1.24047306]\n",
      "The mean of the self-described masculinity measure:  2.264\n"
     ]
    }
   ],
   "source": [
    "classifier_q0001_educ4 = KMeans(n_clusters = 2, random_state = 20)\n",
    "classifier_q0001_educ4.fit(rows_to_cluster_2[[\"educ4\", \"q0001\", \"kids\", \"q0009\"]])\n",
    "\n",
    "print(\"Cluster center 0: \", classifier_q0001_educ4.cluster_centers_[0])\n",
    "print(\"Cluster center 1: \", classifier_q0001_educ4.cluster_centers_[1])\n",
    "\n",
    "print(\"The mean of the self-described masculinity measure: \", rows_to_cluster_2[\"q0001\"].mean())"
   ]
  },
  {
   "cell_type": "markdown",
   "id": "051abc2c",
   "metadata": {},
   "source": [
    "#### Making sense of the cluster centers\n",
    "\n",
    "There seemingly appears to be a positive correlation between education level, employment status and having children.\n",
    "\n",
    "We can only observe a slight negative correlation between all of the above and self-described masculinity. This could indicate that people with lower levels of education have a higher sense of masculinity.\n",
    "\n",
    "\n",
    "Let's separate the two groups of rows and look whether one is more likely to pay on a date!\n"
   ]
  },
  {
   "cell_type": "code",
   "execution_count": 53,
   "id": "ab456f2c",
   "metadata": {},
   "outputs": [
    {
     "name": "stdout",
     "output_type": "stream",
     "text": [
      "[5, 6, 9, 14, 19, 22, 23, 26, 27, 31, 38, 40, 44, 47, 48, 54, 59, 61, 64, 65, 69, 70, 73, 74, 76, 82, 84, 85, 93, 97, 98, 99, 104, 105, 106, 107, 109, 112, 129, 132, 143, 146, 151, 152, 153, 156, 160, 161, 163, 164, 165, 167, 171, 183, 184, 185, 186, 191, 193, 195, 196, 198, 204, 205, 210, 213, 217, 220, 221, 223, 224, 226, 227, 233, 234, 237, 244, 253, 263, 264, 268, 271, 274, 275, 277, 281, 286, 287, 291, 296, 310, 313, 319, 320, 321, 322, 323, 324, 325, 326, 329, 333, 335, 336, 337, 338, 342, 346, 352, 357, 360, 363, 369, 373, 377, 379, 380, 384, 388, 391, 395, 396, 403, 404, 405, 410, 412, 417, 420, 422, 423, 429, 431, 435, 437, 439, 441, 445, 448, 452, 454, 459, 460, 463, 466, 467, 468, 470, 475, 484, 488, 492, 497, 501, 502, 503, 506, 509, 511, 513, 520, 522, 523, 525, 527, 531, 534, 536, 542, 547, 548, 551, 552, 554, 557, 565, 566, 568, 571, 574, 575, 576, 579, 580, 581, 583, 585, 589, 591, 594, 595, 596, 597, 602, 603, 605, 606, 608, 616, 618, 620, 622, 623, 625, 631, 634, 635, 640, 644, 647, 648, 651, 660, 665, 666, 670, 672, 674, 675, 676, 686, 687, 690, 692, 693, 694, 701, 703, 704, 705, 706, 707, 711, 712, 716, 718, 720, 722, 723, 725, 726, 728, 729, 730, 733, 734, 736, 738, 739, 741, 749, 750, 753, 757, 760, 769, 778, 780, 784, 785, 788, 793, 794, 797, 799, 801, 802, 803, 804, 807, 809, 810, 813, 822, 823, 831, 832, 833, 837, 839, 840, 848, 851, 852, 854, 857, 867, 869, 873, 875, 878, 882, 886, 893, 896, 897, 901, 902, 903, 908, 913, 915, 916, 919, 932, 935, 942, 945, 947, 950, 951, 957, 959, 963, 967, 972, 973, 977, 981, 985, 986, 987, 990, 995, 1000, 1003, 1005, 1007, 1011, 1012, 1013, 1014, 1016, 1017, 1018, 1019, 1022, 1025, 1028, 1030, 1031, 1035, 1036, 1037, 1039, 1041, 1044, 1052, 1058, 1060, 1064, 1071, 1072, 1075, 1076, 1080, 1081, 1089, 1090, 1091, 1096, 1102, 1105, 1109]\n",
      "[1 1 1 ... 1 1 1]\n"
     ]
    }
   ],
   "source": [
    "cluster_zero_indices_2 = []\n",
    "cluster_one_indices_2 = []\n",
    "for i in range(len(classifier_q0001_educ4.labels_)):\n",
    "    if classifier_q0001_educ4.labels_[i] == 0:\n",
    "        cluster_zero_indices_2.append(i)\n",
    "    elif classifier_q0001_educ4.labels_[i] == 1:\n",
    "        cluster_one_indices_2.append(i)\n",
    "print(cluster_zero_indices_2)\n",
    "\n",
    "\n"
   ]
  },
  {
   "cell_type": "markdown",
   "id": "58a57169",
   "metadata": {},
   "source": [
    "Okay, now we can get a feel for the average likelihood of a group paying for a date."
   ]
  },
  {
   "cell_type": "code",
   "execution_count": 50,
   "id": "8426b6ee",
   "metadata": {},
   "outputs": [
    {
     "name": "stdout",
     "output_type": "stream",
     "text": [
      "Cluster 0 stats: \n",
      " 4.0    0.478022\n",
      "3.0    0.296703\n",
      "2.0    0.162088\n",
      "0.0    0.043956\n",
      "1.0    0.019231\n",
      "Name: q0018, dtype: float64 \n",
      " \n",
      " Cluster 0 mean and median:  3.1456043956043955 ,  3.0\n",
      "\n",
      "Cluster 1 stats: \n",
      " 4.0    0.541393\n",
      "3.0    0.279895\n",
      "2.0    0.119580\n",
      "0.0    0.045992\n",
      "1.0    0.013141\n",
      "Name: q0018, dtype: float64 \n",
      " \n",
      " Cluster 1 mean and median:  3.2575558475689883 ,  4.0\n"
     ]
    }
   ],
   "source": [
    "cluster_0_df = rows_to_cluster_2.iloc[cluster_zero_indices_2]\n",
    "cluster_1_df = rows_to_cluster_2.iloc[cluster_one_indices_2]\n",
    "\n",
    "print(\"Cluster 0 stats: \\n\",cluster_0_df[\"q0018\"].value_counts()/len(cluster_0_df), \"\\n \\n Cluster 0 mean and median: \", \n",
    "      cluster_0_df[\"q0018\"].mean(), \", \", cluster_0_df[\"q0018\"].median())\n",
    "print(\"\\nCluster 1 stats: \\n\", cluster_1_df[\"q0018\"].value_counts()/len(cluster_1_df), \"\\n \\n Cluster 1 mean and median: \", \n",
    "      cluster_1_df[\"q0018\"].mean(), \", \", cluster_1_df[\"q0018\"].median())\n",
    "\n"
   ]
  },
  {
   "cell_type": "markdown",
   "id": "ef23a035",
   "metadata": {},
   "source": [
    "## AND THE WINNER IS CLUSTER 1!!!!\n",
    "\n",
    "It actually turns out that people with a lower level of education and employment have a higher sense of masculinity and are more likely to pay on dates. Although previous data indicates that they are perhaps in a lower demographic group than the others, they still are more willing to pay when on a date. \n",
    "\n",
    "Interesting finding...:)"
   ]
  }
 ],
 "metadata": {
  "kernelspec": {
   "display_name": "Python 3 (ipykernel)",
   "language": "python",
   "name": "python3"
  },
  "language_info": {
   "codemirror_mode": {
    "name": "ipython",
    "version": 3
   },
   "file_extension": ".py",
   "mimetype": "text/x-python",
   "name": "python",
   "nbconvert_exporter": "python",
   "pygments_lexer": "ipython3",
   "version": "3.9.12"
  }
 },
 "nbformat": 4,
 "nbformat_minor": 5
}
