{
 "cells": [
  {
   "cell_type": "markdown",
   "id": "649ed44d",
   "metadata": {},
   "source": [
    "## Individual work after completing CodeCademy's *Build a Machine Learning Model with Python Skill Path* Course\n",
    "\n",
    "In this project I will be exploring further questions that may arise from the masculinity survey from <a href=\"https://fivethirtyeight.com/\" target = \"_blank\">FiveThirtyEight</a>.\n",
    "\n",
    "The questions I will be exploring are:\n",
    "\n",
    "* Who is more likely to pay on a date? (sexuality, demographic)\n",
    "* Are certain beliefs or actions linked to more self-described masculine or feminine individuals?\n",
    "* How do insecurities change as people grow older?\n",
    "\n",
    "\n",
    "So far, we have already concluded that, when trying to find a more masculine and less masculine cluster from the subquestions of question 7, we end up with a cluster representing the people that are more likely to do all activities and a second cluster representing the people that are less likely to do any activity. So the two clusters are \"people who do things\" and \"people who don't do things\". \n",
    "\n",
    "The code below shows the progress so far."
   ]
  },
  {
   "cell_type": "code",
   "execution_count": 1,
   "id": "eabe69a7",
   "metadata": {},
   "outputs": [
    {
     "ename": "ModuleNotFoundError",
     "evalue": "No module named 'pandas'",
     "output_type": "error",
     "traceback": [
      "\u001b[0;31m---------------------------------------------------------------------------\u001b[0m",
      "\u001b[0;31mModuleNotFoundError\u001b[0m                       Traceback (most recent call last)",
      "\u001b[1;32m/Users/davidandreas/Desktop/masculinity_project/Individual_work_masculinity_project.ipynb Cell 2\u001b[0m line \u001b[0;36m1\n\u001b[0;32m----> <a href='vscode-notebook-cell:/Users/davidandreas/Desktop/masculinity_project/Individual_work_masculinity_project.ipynb#W1sZmlsZQ%3D%3D?line=0'>1</a>\u001b[0m \u001b[39mimport\u001b[39;00m \u001b[39mpandas\u001b[39;00m \u001b[39mas\u001b[39;00m \u001b[39mpd\u001b[39;00m\n\u001b[1;32m      <a href='vscode-notebook-cell:/Users/davidandreas/Desktop/masculinity_project/Individual_work_masculinity_project.ipynb#W1sZmlsZQ%3D%3D?line=2'>3</a>\u001b[0m survey \u001b[39m=\u001b[39m pd\u001b[39m.\u001b[39mread_csv(\u001b[39m\"\u001b[39m\u001b[39mmasculinity.csv\u001b[39m\u001b[39m\"\u001b[39m)\n",
      "\u001b[0;31mModuleNotFoundError\u001b[0m: No module named 'pandas'"
     ]
    }
   ],
   "source": [
    "import pandas as pd\n",
    "\n",
    "survey = pd.read_csv(\"masculinity.csv\")"
   ]
  },
  {
   "cell_type": "markdown",
   "id": "3a78e11f",
   "metadata": {},
   "source": [
    "### Mapping text to numerical values\n",
    "\n",
    "This is important, as KMeans can only be trained on numerical values. "
   ]
  },
  {
   "cell_type": "code",
   "execution_count": null,
   "id": "b0f41b03",
   "metadata": {},
   "outputs": [
    {
     "name": "stdout",
     "output_type": "stream",
     "text": [
      "3.0    537\n",
      "2.0    324\n",
      "4.0    142\n",
      "1.0    123\n",
      "0.0     53\n",
      "Name: q0007_0001, dtype: int64\n",
      "3.0    514\n",
      "2.0    387\n",
      "4.0    123\n",
      "1.0    101\n",
      "0.0     50\n",
      "Name: q0007_0002, dtype: int64\n",
      "3.0    364\n",
      "2.0    339\n",
      "0.0    224\n",
      "4.0    166\n",
      "1.0     85\n",
      "Name: q0007_0003, dtype: int64\n",
      "2.0    505\n",
      "3.0    371\n",
      "1.0    121\n",
      "0.0     78\n",
      "4.0     43\n",
      "Name: q0007_0004, dtype: int64\n",
      "0.0    710\n",
      "1.0    228\n",
      "2.0    217\n",
      "3.0     22\n",
      "4.0      7\n",
      "Name: q0007_0005, dtype: int64\n",
      "4.0    427\n",
      "3.0    384\n",
      "2.0    155\n",
      "0.0    102\n",
      "1.0     91\n",
      "Name: q0007_0006, dtype: int64\n",
      "0.0    1001\n",
      "1.0      60\n",
      "3.0      41\n",
      "4.0      39\n",
      "2.0      31\n",
      "Name: q0007_0007, dtype: int64\n",
      "4.0    482\n",
      "3.0    344\n",
      "2.0    216\n",
      "0.0     93\n",
      "1.0     43\n",
      "Name: q0007_0008, dtype: int64\n",
      "3.0    353\n",
      "2.0    316\n",
      "4.0    296\n",
      "0.0     95\n",
      "1.0     95\n",
      "Name: q0007_0009, dtype: int64\n",
      "1.0    464\n",
      "0.0    355\n",
      "2.0    189\n",
      "3.0     97\n",
      "4.0     58\n",
      "Name: q0007_0010, dtype: int64\n",
      "2.0    456\n",
      "3.0    339\n",
      "0.0    187\n",
      "4.0    111\n",
      "1.0     75\n",
      "Name: q0007_0011, dtype: int64\n"
     ]
    }
   ],
   "source": [
    "cols_to_map = [\"q0007_0001\", \"q0007_0002\", \"q0007_0003\", \"q0007_0004\",\n",
    "       \"q0007_0005\", \"q0007_0006\", \"q0007_0007\", \"q0007_0008\", \"q0007_0009\",\n",
    "       \"q0007_0010\", \"q0007_0011\"]\n",
    "\n",
    "for column in cols_to_map:\n",
    "    survey[column] = survey[column].map({\"Never, and not open to it\":0, \"Never, but open to it\":1, \"Rarely\":2, \"Sometimes\":3,\n",
    "                                        \"Often\":4})\n",
    "    \n",
    "for column in cols_to_map:\n",
    "    print(survey[column].value_counts())"
   ]
  },
  {
   "cell_type": "markdown",
   "id": "b5489e64",
   "metadata": {},
   "source": [
    "### Training the KMeans classifier object\n",
    "\n",
    "As we can see, the first cluster_center defines a cluster with the \"not doers\" the second defines a cluster with the \"doers\". This means that there isn't a clear difference in the *masculinity* of the answers."
   ]
  },
  {
   "cell_type": "code",
   "execution_count": null,
   "id": "4581d39e",
   "metadata": {},
   "outputs": [
    {
     "name": "stdout",
     "output_type": "stream",
     "text": [
      "The first cluster center has higher values:  [1.87830688 1.84391534 0.85185185 1.72486772 0.57142857 2.64021164\n",
      " 1.97089947]\n",
      "The second cluster center has lower values:  [2.84548105 2.81632653 2.84110787 2.39941691 0.69387755 3.06997085\n",
      " 2.90087464]\n"
     ]
    }
   ],
   "source": [
    "from sklearn.cluster import KMeans\n",
    "\n",
    "rows_to_cluster = survey.dropna(subset = [\"q0007_0001\", \"q0007_0002\", \"q0007_0003\",\"q0007_0004\",\"q0007_0005\",\"q0007_0008\",\"q0007_0009\"])\n",
    "\n",
    "classifier = KMeans(n_clusters = 2)\n",
    "classifier.fit(rows_to_cluster[[\"q0007_0001\", \"q0007_0002\", \"q0007_0003\",\"q0007_0004\",\"q0007_0005\",\"q0007_0008\",\"q0007_0009\"]])\n",
    "print(\"The first cluster center has higher values: \", classifier.cluster_centers_[0])\n",
    "print(\"The second cluster center has lower values: \", classifier.cluster_centers_[1])"
   ]
  },
  {
   "cell_type": "markdown",
   "id": "06af293e",
   "metadata": {},
   "source": [
    "## Is there some sort of correlation between self-described masculinity, number of children and education level?\n",
    "\n",
    "\n",
    "Mapping the educ4 and q001 (education and question one) columns to numbers:\n",
    "\n",
    "Not employed-retired                  468\n",
    "Employed, working full-time           467\n",
    "Employed, working part-time           109\n",
    "Not employed, NOT looking for work     87\n",
    "Not employed, looking for work         40\n",
    "Not employed, student                  17\n",
    "No answer              \n"
   ]
  },
  {
   "cell_type": "code",
   "execution_count": null,
   "id": "ee08ff60",
   "metadata": {},
   "outputs": [
    {
     "name": "stdout",
     "output_type": "stream",
     "text": [
      "4.0    389\n",
      "2.0    373\n",
      "1.0    307\n",
      "0.0    119\n",
      "Name: educ4, dtype: int64\n",
      "2.0    617\n",
      "3.0    443\n",
      "1.0     97\n",
      "0.0     21\n",
      "Name: q0001, dtype: int64\n",
      "1.0    818\n",
      "0.0    365\n",
      "Name: kids, dtype: int64\n",
      "1.0    576\n",
      "2.0    468\n",
      "0.0    127\n",
      "Name: q0009, dtype: int64\n"
     ]
    }
   ],
   "source": [
    "survey[\"educ4\"] = survey[\"educ4\"].map({\"High school or less\":0, \"Some college\":1, \"College or more\":2, \"Post graduate degree\":4})\n",
    "\n",
    "survey[\"q0001\"] = survey[\"q0001\"].map({\"Very masculine\": 3, \"Somewhat masculine\": 2, \"Not very masculine\":1, \"Not at all masculine\":0})\n",
    "\n",
    "survey[\"kids\"] = survey[\"kids\"].map({\"Has children\":1, \"No children\":0})\n",
    "\n",
    "\n",
    "#employment status - here I only want to look at people that are either working, not working (but not students) or retired.\n",
    "survey[\"q0009\"] = survey[\"q0009\"].map({\"Not employed, looking for work\":0, \"Not employed, NOT looking for work\":0, \"Employed, working part-time\":1,\n",
    "                                      \"Employed, working full-time\":1, \"Not employed-retired\":2})\n",
    "\n",
    "print(survey[\"educ4\"].value_counts())\n",
    "print(survey[\"q0001\"].value_counts())\n",
    "print(survey[\"kids\"].value_counts())\n",
    "print(survey[\"q0009\"].value_counts())"
   ]
  },
  {
   "cell_type": "code",
   "execution_count": null,
   "id": "05c8abff",
   "metadata": {},
   "outputs": [
    {
     "data": {
      "text/plain": [
       "[<matplotlib.lines.Line2D at 0x7f95ec0d4eb0>]"
      ]
     },
     "execution_count": 50,
     "metadata": {},
     "output_type": "execute_result"
    },
    {
     "data": {
      "image/png": "[encoded data removed]",
      "text/plain": [
       "<Figure size 432x288 with 1 Axes>"
      ]
     },
     "metadata": {
      "needs_background": "light"
     },
     "output_type": "display_data"
    }
   ],
   "source": [
    "rows_to_cluster_2 = survey.dropna(subset=[\"educ4\", \"q0001\", \"kids\", \"q0009\"])\n",
    "\n",
    "from matplotlib import pyplot as plt\n",
    "\n",
    "inertia = []\n",
    "for i in range(1, 15):\n",
    "    classifier_q0001_educ4 = KMeans(n_clusters = i, random_state = 20)\n",
    "    classifier_q0001_educ4.fit(rows_to_cluster_2[[\"educ4\", \"q0001\", \"kids\", \"q0009\"]])\n",
    "    inertia.append(classifier_q0001_educ4.inertia_)\n",
    "\n",
    "plt.plot(range(1,15), inertia)"
   ]
  },
  {
   "cell_type": "markdown",
   "id": "4c3a9257",
   "metadata": {},
   "source": [
    "Seeing that the optimal number of clusters is 2, I will use that one."
   ]
  },
  {
   "cell_type": "code",
   "execution_count": null,
   "id": "4b73109e",
   "metadata": {},
   "outputs": [
    {
     "name": "stdout",
     "output_type": "stream",
     "text": [
      "Cluster center no. 1:  [4.         2.2539267  0.7382199  1.39528796]\n",
      "Cluster center no. 2:  [1.32729625 2.27166882 0.67658473 1.24320828]\n",
      "The mean of the self-described masculinity measure:  2.2658008658008657\n"
     ]
    }
   ],
   "source": [
    "classifier_q0001_educ4 = KMeans(n_clusters = 2, random_state = 20)\n",
    "classifier_q0001_educ4.fit(rows_to_cluster_2[[\"educ4\", \"q0001\", \"kids\", \"q0009\"]])\n",
    "\n",
    "print(\"Cluster center no. 1: \", classifier_q0001_educ4.cluster_centers_[0])\n",
    "print(\"Cluster center no. 2: \", classifier_q0001_educ4.cluster_centers_[1])\n",
    "\n",
    "print(\"The mean of the self-described masculinity measure: \", rows_to_cluster_2[\"q0001\"].mean())"
   ]
  },
  {
   "cell_type": "markdown",
   "id": "051abc2c",
   "metadata": {},
   "source": [
    "#### Making sense of the cluster centers\n",
    "\n",
    "There seemingly appears to be a positive correlation between education level, employment status and having children.\n",
    "\n",
    "We can only observe a slight negative correlation between all of the above and self-described masculinity. This could indicate that people with lower levels of education have a higher sense of masculinity.\n"
   ]
  },
  {
   "cell_type": "code",
   "execution_count": null,
   "id": "ab456f2c",
   "metadata": {},
   "outputs": [],
   "source": []
  }
 ],
 "metadata": {
  "kernelspec": {
   "display_name": "Python 3 (ipykernel)",
   "language": "python",
   "name": "python3"
  },
  "language_info": {
   "codemirror_mode": {
    "name": "ipython",
    "version": 3
   },
   "file_extension": ".py",
   "mimetype": "text/x-python",
   "name": "python",
   "nbconvert_exporter": "python",
   "pygments_lexer": "ipython3",
   "version": "3.9.6"
  }
 },
 "nbformat": 4,
 "nbformat_minor": 5
}
